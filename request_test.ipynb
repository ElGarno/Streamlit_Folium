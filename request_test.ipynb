{
 "cells": [
  {
   "cell_type": "code",
   "execution_count": 71,
   "metadata": {
    "collapsed": true
   },
   "outputs": [],
   "source": [
    "import requests\n",
    "import pandas as pd\n",
    "import numpy as np\n",
    "import matplotlib.pyplot as plt\n",
    "import seaborn as sns"
   ]
  },
  {
   "cell_type": "code",
   "execution_count": 25,
   "outputs": [
    {
     "data": {
      "text/plain": "[    Bundesland              Kreis   Stadt / Gemeinde  \\\n 0       Hessen    Landkreis Fulda              Fulda   \n 1       Hessen    Landkreis Fulda              Fulda   \n 2       Hessen   Landkreis Gießen           Pohlheim   \n 3       Hessen  Main-Kinzig-Kreis           Schöneck   \n 4       Hessen    Lahn-Dill-Kreis            Wetzlar   \n ..         ...                ...                ...   \n 799     Hessen  Main-Kinzig-Kreis       Wächtersbach   \n 800     Hessen  Offenbach am Main  Offenbach am Main   \n 801     Hessen    Lahn-Dill-Kreis            Wetzlar   \n 802     Hessen      Wetteraukreis           Butzbach   \n 803     Hessen             Kassel             Kassel   \n \n                                            Unternehmen  Links Mitarbeiter  \\\n 0                      3D Formen- und Werkzeugbau GmbH    NaN       28 MA   \n 1                             A & S - Engineering GmbH    NaN       50 MA   \n 2                                    A+W Software GmbH    NaN      141 MA   \n 3                      A. Ebbecke Verfahrenstechnik AG    NaN      107 MA   \n 4               A.S.S. Fertigungstechnik GmbH & Co. KG    NaN       25 MA   \n ..                                                 ...    ...         ...   \n 799                           sfm medical devices GmbH    NaN      239 MA   \n 800                                        tecsis GmbH    NaN      181 MA   \n 801  vR production (DUKTUS) gmbh (vormals: Duktus (...    NaN      238 MA   \n 802  voestalpine BWG GmbH (vormals: voestalpine Bah...    NaN      756 MA   \n 803                  xperion Energy & Environment GmbH    NaN      106 MA   \n \n     ⌀ Gehalt / MA    *                        Gegenstand des Unternehmens  \\\n 0           k. A.  NaN  Ist Werkzeugbau und FormeIst Werkzeugbau und F...   \n 1           k. A.  NaN                                                NaN   \n 2     67.615 €/MA  NaN  entwickelt und vertreibt entwickelt und vertre...   \n 3           k. A.  NaN  Die Entwicklung und der BDie Entwicklung und d...   \n 4           k. A.  NaN                                                NaN   \n ..            ...  ...                                                ...   \n 799   45.593 €/MA  NaN  Herstellung medizinischerHerstellung medizinis...   \n 800   72.362 €/MA  NaN  Im Geschäftsjahr 2018 erfIm Geschäftsjahr 2018...   \n 801   51.342 €/MA  NaN  Die Gesellschaft ist fastDie Gesellschaft ist ...   \n 802   46.957 €/MA  NaN  Spezialist für moderne TeSpezialist für modern...   \n 803   52.020 €/MA  NaN  Tanks und Module zur SpeiTanks und Module zur ...   \n \n     Löhne und Gehälter                 Ort (Werk)       Lat      Lon  \\\n 0                k. A.                      Fulda  50.57460  9.69442   \n 1                k. A.                      Fulda  50.52873  9.68570   \n 2       9.533.726,86 €                   Pohlheim  50.52808  8.75195   \n 3                k. A.                   Schöneck  50.20074  8.85493   \n 4                k. A.                    Wetzlar  50.55118  8.48092   \n ..                 ...                        ...       ...      ...   \n 799    10.896.754,12 €               Wächtersbach  50.25794  9.29791   \n 800    13.097.623,92 €          Offenbach am Main  50.08357  8.83927   \n 801    12.219.563,19 €                    Wetzlar  50.56081  8.49697   \n 802    35.500.000,00 €                   Butzbach  50.44309  8.66642   \n 803     5.514.131,92 €  Kassel (vormals: Herford)  51.28038  9.50372   \n \n      Geschäfts­jahr  \n 0               NaN  \n 1               NaN  \n 2            2018.0  \n 3               NaN  \n 4               NaN  \n ..              ...  \n 799          2018.0  \n 800          2018.0  \n 801          2017.0  \n 802          2018.0  \n 803          2016.0  \n \n [804 rows x 14 columns]]"
     },
     "execution_count": 25,
     "metadata": {},
     "output_type": "execute_result"
    }
   ],
   "source": [
    "url=\"http://arbeitgeberliste.bplaced.net/#%7B%22col_1%22%3A%7B%7D%7D\"\n",
    "try:\n",
    "    r = requests.get(url)\n",
    "    r.raise_for_status()\n",
    "except requests.exceptions.HTTPError as err:\n",
    "    raise SystemExit(err)\n",
    "html = r.content\n",
    "df_list = pd.read_html(html)\n",
    "df_list"
   ],
   "metadata": {
    "collapsed": false,
    "pycharm": {
     "name": "#%%\n"
    }
   }
  },
  {
   "cell_type": "code",
   "execution_count": 26,
   "outputs": [
    {
     "data": {
      "text/plain": "Index(['Bundesland', 'Kreis', 'Stadt / Gemeinde', 'Unternehmen', 'Links',\n       'Mitarbeiter', '⌀ Gehalt / MA', '*', 'Gegenstand des Unternehmens',\n       'Löhne und Gehälter', 'Ort (Werk)', 'Lat', 'Lon', 'Geschäfts­jahr'],\n      dtype='object')"
     },
     "execution_count": 26,
     "metadata": {},
     "output_type": "execute_result"
    }
   ],
   "source": [
    "df_list[0].columns"
   ],
   "metadata": {
    "collapsed": false,
    "pycharm": {
     "name": "#%%\n"
    }
   }
  },
  {
   "cell_type": "code",
   "execution_count": 42,
   "outputs": [],
   "source": [
    "df = df_list[0].copy()"
   ],
   "metadata": {
    "collapsed": false,
    "pycharm": {
     "name": "#%%\n"
    }
   }
  },
  {
   "cell_type": "code",
   "execution_count": 43,
   "outputs": [],
   "source": [
    "df_preprocessed = df.drop(columns=['*','Links','Gegenstand des Unternehmens','Geschäfts­jahr','Löhne und Gehälter', 'Stadt / Gemeinde'])"
   ],
   "metadata": {
    "collapsed": false,
    "pycharm": {
     "name": "#%%\n"
    }
   }
  },
  {
   "cell_type": "code",
   "execution_count": 44,
   "outputs": [],
   "source": [
    "df_preprocessed = df_preprocessed.rename(columns={\n",
    "    'Lat' : 'Latitude',\n",
    "    'Lon' : 'Longitude',\n",
    "    '⌀ Gehalt / MA' : 'Jahresgehalt (AVG)'\n",
    "})"
   ],
   "metadata": {
    "collapsed": false,
    "pycharm": {
     "name": "#%%\n"
    }
   }
  },
  {
   "cell_type": "code",
   "execution_count": 46,
   "outputs": [],
   "source": [
    "df_preprocessed.replace('k. A.', np.nan, inplace=True)"
   ],
   "metadata": {
    "collapsed": false,
    "pycharm": {
     "name": "#%%\n"
    }
   }
  },
  {
   "cell_type": "code",
   "execution_count": 47,
   "outputs": [
    {
     "name": "stderr",
     "output_type": "stream",
     "text": [
      "/var/folders/x8/dy2jl03j1xg8447w9rkkjvrm0000gn/T/ipykernel_19371/3611651342.py:1: FutureWarning: The default value of regex will change from True to False in a future version. In addition, single character regular expressions will *not* be treated as literal strings when regex=True.\n",
      "  df_preprocessed['Mitarbeiter'] = df_preprocessed['Mitarbeiter'].str.replace(r' MA', '').str.replace('.', '').astype('int')\n"
     ]
    }
   ],
   "source": [
    "df_preprocessed['Mitarbeiter'] = df_preprocessed['Mitarbeiter'].str.replace(r' MA', '').str.replace('.', '').astype('int')"
   ],
   "metadata": {
    "collapsed": false,
    "pycharm": {
     "name": "#%%\n"
    }
   }
  },
  {
   "cell_type": "code",
   "execution_count": 53,
   "outputs": [
    {
     "data": {
      "text/plain": "Bundesland             object\nKreis                  object\nUnternehmen            object\nMitarbeiter             int64\nJahresgehalt (AVG)    float64\nOrt (Werk)             object\nLatitude              float64\nLongitude             float64\ndtype: object"
     },
     "execution_count": 53,
     "metadata": {},
     "output_type": "execute_result"
    }
   ],
   "source": [
    "df_preprocessed.dtypes"
   ],
   "metadata": {
    "collapsed": false,
    "pycharm": {
     "name": "#%%\n"
    }
   }
  },
  {
   "cell_type": "code",
   "execution_count": 61,
   "outputs": [
    {
     "data": {
      "text/plain": "True"
     },
     "execution_count": 61,
     "metadata": {},
     "output_type": "execute_result"
    }
   ],
   "source": [
    "df_preprocessed['Jahresgehalt (AVG)'].dtype == \"float64\""
   ],
   "metadata": {
    "collapsed": false,
    "pycharm": {
     "name": "#%%\n"
    }
   }
  },
  {
   "cell_type": "code",
   "execution_count": 63,
   "outputs": [],
   "source": [
    "if df_preprocessed['Jahresgehalt (AVG)'].dtype == \"object\":\n",
    "    df_preprocessed['Jahresgehalt (AVG)'] = df_preprocessed['Jahresgehalt (AVG)'].dropna().str.replace(r' €/MA', '').str.replace('.', '').astype('float')"
   ],
   "metadata": {
    "collapsed": false,
    "pycharm": {
     "name": "#%%\n"
    }
   }
  },
  {
   "cell_type": "code",
   "execution_count": 52,
   "outputs": [
    {
     "data": {
      "text/plain": "  Bundesland              Kreis                             Unternehmen  \\\n0     Hessen    Landkreis Fulda         3D Formen- und Werkzeugbau GmbH   \n1     Hessen    Landkreis Fulda                A & S - Engineering GmbH   \n2     Hessen   Landkreis Gießen                       A+W Software GmbH   \n3     Hessen  Main-Kinzig-Kreis         A. Ebbecke Verfahrenstechnik AG   \n4     Hessen    Lahn-Dill-Kreis  A.S.S. Fertigungstechnik GmbH & Co. KG   \n\n   Mitarbeiter  Jahresgehalt (AVG) Ort (Werk)  Latitude  Longitude  \n0           28                 NaN      Fulda  50.57460    9.69442  \n1           50                 NaN      Fulda  50.52873    9.68570  \n2          141             67615.0   Pohlheim  50.52808    8.75195  \n3          107                 NaN   Schöneck  50.20074    8.85493  \n4           25                 NaN    Wetzlar  50.55118    8.48092  ",
      "text/html": "<div>\n<style scoped>\n    .dataframe tbody tr th:only-of-type {\n        vertical-align: middle;\n    }\n\n    .dataframe tbody tr th {\n        vertical-align: top;\n    }\n\n    .dataframe thead th {\n        text-align: right;\n    }\n</style>\n<table border=\"1\" class=\"dataframe\">\n  <thead>\n    <tr style=\"text-align: right;\">\n      <th></th>\n      <th>Bundesland</th>\n      <th>Kreis</th>\n      <th>Unternehmen</th>\n      <th>Mitarbeiter</th>\n      <th>Jahresgehalt (AVG)</th>\n      <th>Ort (Werk)</th>\n      <th>Latitude</th>\n      <th>Longitude</th>\n    </tr>\n  </thead>\n  <tbody>\n    <tr>\n      <th>0</th>\n      <td>Hessen</td>\n      <td>Landkreis Fulda</td>\n      <td>3D Formen- und Werkzeugbau GmbH</td>\n      <td>28</td>\n      <td>NaN</td>\n      <td>Fulda</td>\n      <td>50.57460</td>\n      <td>9.69442</td>\n    </tr>\n    <tr>\n      <th>1</th>\n      <td>Hessen</td>\n      <td>Landkreis Fulda</td>\n      <td>A &amp; S - Engineering GmbH</td>\n      <td>50</td>\n      <td>NaN</td>\n      <td>Fulda</td>\n      <td>50.52873</td>\n      <td>9.68570</td>\n    </tr>\n    <tr>\n      <th>2</th>\n      <td>Hessen</td>\n      <td>Landkreis Gießen</td>\n      <td>A+W Software GmbH</td>\n      <td>141</td>\n      <td>67615.0</td>\n      <td>Pohlheim</td>\n      <td>50.52808</td>\n      <td>8.75195</td>\n    </tr>\n    <tr>\n      <th>3</th>\n      <td>Hessen</td>\n      <td>Main-Kinzig-Kreis</td>\n      <td>A. Ebbecke Verfahrenstechnik AG</td>\n      <td>107</td>\n      <td>NaN</td>\n      <td>Schöneck</td>\n      <td>50.20074</td>\n      <td>8.85493</td>\n    </tr>\n    <tr>\n      <th>4</th>\n      <td>Hessen</td>\n      <td>Lahn-Dill-Kreis</td>\n      <td>A.S.S. Fertigungstechnik GmbH &amp; Co. KG</td>\n      <td>25</td>\n      <td>NaN</td>\n      <td>Wetzlar</td>\n      <td>50.55118</td>\n      <td>8.48092</td>\n    </tr>\n  </tbody>\n</table>\n</div>"
     },
     "execution_count": 52,
     "metadata": {},
     "output_type": "execute_result"
    }
   ],
   "source": [
    "df_preprocessed.head()"
   ],
   "metadata": {
    "collapsed": false,
    "pycharm": {
     "name": "#%%\n"
    }
   }
  },
  {
   "cell_type": "code",
   "execution_count": 54,
   "outputs": [
    {
     "data": {
      "text/plain": "0          NaN\n1          NaN\n2      67615.0\n3          NaN\n4          NaN\n        ...   \n799    45593.0\n800    72362.0\n801    51342.0\n802    46957.0\n803    52020.0\nName: Jahresgehalt (AVG), Length: 804, dtype: float64"
     },
     "execution_count": 54,
     "metadata": {},
     "output_type": "execute_result"
    }
   ],
   "source": [
    "df_preprocessed['Jahresgehalt (AVG)']"
   ],
   "metadata": {
    "collapsed": false,
    "pycharm": {
     "name": "#%%\n"
    }
   }
  },
  {
   "cell_type": "code",
   "execution_count": 64,
   "outputs": [
    {
     "data": {
      "text/plain": "    Bundesland              Kreis  \\\n0       Hessen    Landkreis Fulda   \n1       Hessen    Landkreis Fulda   \n2       Hessen   Landkreis Gießen   \n3       Hessen  Main-Kinzig-Kreis   \n4       Hessen    Lahn-Dill-Kreis   \n..         ...                ...   \n799     Hessen  Main-Kinzig-Kreis   \n800     Hessen  Offenbach am Main   \n801     Hessen    Lahn-Dill-Kreis   \n802     Hessen      Wetteraukreis   \n803     Hessen             Kassel   \n\n                                           Unternehmen  Mitarbeiter  \\\n0                      3D Formen- und Werkzeugbau GmbH           28   \n1                             A & S - Engineering GmbH           50   \n2                                    A+W Software GmbH          141   \n3                      A. Ebbecke Verfahrenstechnik AG          107   \n4               A.S.S. Fertigungstechnik GmbH & Co. KG           25   \n..                                                 ...          ...   \n799                           sfm medical devices GmbH          239   \n800                                        tecsis GmbH          181   \n801  vR production (DUKTUS) gmbh (vormals: Duktus (...          238   \n802  voestalpine BWG GmbH (vormals: voestalpine Bah...          756   \n803                  xperion Energy & Environment GmbH          106   \n\n     Jahresgehalt (AVG)                 Ort (Werk)  Latitude  Longitude  \n0                   NaN                      Fulda  50.57460    9.69442  \n1                   NaN                      Fulda  50.52873    9.68570  \n2               67615.0                   Pohlheim  50.52808    8.75195  \n3                   NaN                   Schöneck  50.20074    8.85493  \n4                   NaN                    Wetzlar  50.55118    8.48092  \n..                  ...                        ...       ...        ...  \n799             45593.0               Wächtersbach  50.25794    9.29791  \n800             72362.0          Offenbach am Main  50.08357    8.83927  \n801             51342.0                    Wetzlar  50.56081    8.49697  \n802             46957.0                   Butzbach  50.44309    8.66642  \n803             52020.0  Kassel (vormals: Herford)  51.28038    9.50372  \n\n[804 rows x 8 columns]",
      "text/html": "<div>\n<style scoped>\n    .dataframe tbody tr th:only-of-type {\n        vertical-align: middle;\n    }\n\n    .dataframe tbody tr th {\n        vertical-align: top;\n    }\n\n    .dataframe thead th {\n        text-align: right;\n    }\n</style>\n<table border=\"1\" class=\"dataframe\">\n  <thead>\n    <tr style=\"text-align: right;\">\n      <th></th>\n      <th>Bundesland</th>\n      <th>Kreis</th>\n      <th>Unternehmen</th>\n      <th>Mitarbeiter</th>\n      <th>Jahresgehalt (AVG)</th>\n      <th>Ort (Werk)</th>\n      <th>Latitude</th>\n      <th>Longitude</th>\n    </tr>\n  </thead>\n  <tbody>\n    <tr>\n      <th>0</th>\n      <td>Hessen</td>\n      <td>Landkreis Fulda</td>\n      <td>3D Formen- und Werkzeugbau GmbH</td>\n      <td>28</td>\n      <td>NaN</td>\n      <td>Fulda</td>\n      <td>50.57460</td>\n      <td>9.69442</td>\n    </tr>\n    <tr>\n      <th>1</th>\n      <td>Hessen</td>\n      <td>Landkreis Fulda</td>\n      <td>A &amp; S - Engineering GmbH</td>\n      <td>50</td>\n      <td>NaN</td>\n      <td>Fulda</td>\n      <td>50.52873</td>\n      <td>9.68570</td>\n    </tr>\n    <tr>\n      <th>2</th>\n      <td>Hessen</td>\n      <td>Landkreis Gießen</td>\n      <td>A+W Software GmbH</td>\n      <td>141</td>\n      <td>67615.0</td>\n      <td>Pohlheim</td>\n      <td>50.52808</td>\n      <td>8.75195</td>\n    </tr>\n    <tr>\n      <th>3</th>\n      <td>Hessen</td>\n      <td>Main-Kinzig-Kreis</td>\n      <td>A. Ebbecke Verfahrenstechnik AG</td>\n      <td>107</td>\n      <td>NaN</td>\n      <td>Schöneck</td>\n      <td>50.20074</td>\n      <td>8.85493</td>\n    </tr>\n    <tr>\n      <th>4</th>\n      <td>Hessen</td>\n      <td>Lahn-Dill-Kreis</td>\n      <td>A.S.S. Fertigungstechnik GmbH &amp; Co. KG</td>\n      <td>25</td>\n      <td>NaN</td>\n      <td>Wetzlar</td>\n      <td>50.55118</td>\n      <td>8.48092</td>\n    </tr>\n    <tr>\n      <th>...</th>\n      <td>...</td>\n      <td>...</td>\n      <td>...</td>\n      <td>...</td>\n      <td>...</td>\n      <td>...</td>\n      <td>...</td>\n      <td>...</td>\n    </tr>\n    <tr>\n      <th>799</th>\n      <td>Hessen</td>\n      <td>Main-Kinzig-Kreis</td>\n      <td>sfm medical devices GmbH</td>\n      <td>239</td>\n      <td>45593.0</td>\n      <td>Wächtersbach</td>\n      <td>50.25794</td>\n      <td>9.29791</td>\n    </tr>\n    <tr>\n      <th>800</th>\n      <td>Hessen</td>\n      <td>Offenbach am Main</td>\n      <td>tecsis GmbH</td>\n      <td>181</td>\n      <td>72362.0</td>\n      <td>Offenbach am Main</td>\n      <td>50.08357</td>\n      <td>8.83927</td>\n    </tr>\n    <tr>\n      <th>801</th>\n      <td>Hessen</td>\n      <td>Lahn-Dill-Kreis</td>\n      <td>vR production (DUKTUS) gmbh (vormals: Duktus (...</td>\n      <td>238</td>\n      <td>51342.0</td>\n      <td>Wetzlar</td>\n      <td>50.56081</td>\n      <td>8.49697</td>\n    </tr>\n    <tr>\n      <th>802</th>\n      <td>Hessen</td>\n      <td>Wetteraukreis</td>\n      <td>voestalpine BWG GmbH (vormals: voestalpine Bah...</td>\n      <td>756</td>\n      <td>46957.0</td>\n      <td>Butzbach</td>\n      <td>50.44309</td>\n      <td>8.66642</td>\n    </tr>\n    <tr>\n      <th>803</th>\n      <td>Hessen</td>\n      <td>Kassel</td>\n      <td>xperion Energy &amp; Environment GmbH</td>\n      <td>106</td>\n      <td>52020.0</td>\n      <td>Kassel (vormals: Herford)</td>\n      <td>51.28038</td>\n      <td>9.50372</td>\n    </tr>\n  </tbody>\n</table>\n<p>804 rows × 8 columns</p>\n</div>"
     },
     "execution_count": 64,
     "metadata": {},
     "output_type": "execute_result"
    }
   ],
   "source": [
    "df_preprocessed"
   ],
   "metadata": {
    "collapsed": false,
    "pycharm": {
     "name": "#%%\n"
    }
   }
  },
  {
   "cell_type": "code",
   "execution_count": 65,
   "outputs": [
    {
     "data": {
      "text/plain": "         Mitarbeiter  Jahresgehalt (AVG)    Latitude   Longitude\ncount     804.000000          630.000000  804.000000  804.000000\nmean     1583.402985        51378.692063   50.392886    9.298171\nstd     11006.911074        16678.820700    0.456455    0.620369\nmin         1.000000         6822.000000   49.510270    8.073150\n25%        71.750000        40344.000000   50.062963    8.769440\n50%       187.000000        49876.000000   50.277610    9.175635\n75%       575.000000        59795.000000   50.611760    9.718850\nmax    276750.000000       193861.000000   51.782540   11.039870",
      "text/html": "<div>\n<style scoped>\n    .dataframe tbody tr th:only-of-type {\n        vertical-align: middle;\n    }\n\n    .dataframe tbody tr th {\n        vertical-align: top;\n    }\n\n    .dataframe thead th {\n        text-align: right;\n    }\n</style>\n<table border=\"1\" class=\"dataframe\">\n  <thead>\n    <tr style=\"text-align: right;\">\n      <th></th>\n      <th>Mitarbeiter</th>\n      <th>Jahresgehalt (AVG)</th>\n      <th>Latitude</th>\n      <th>Longitude</th>\n    </tr>\n  </thead>\n  <tbody>\n    <tr>\n      <th>count</th>\n      <td>804.000000</td>\n      <td>630.000000</td>\n      <td>804.000000</td>\n      <td>804.000000</td>\n    </tr>\n    <tr>\n      <th>mean</th>\n      <td>1583.402985</td>\n      <td>51378.692063</td>\n      <td>50.392886</td>\n      <td>9.298171</td>\n    </tr>\n    <tr>\n      <th>std</th>\n      <td>11006.911074</td>\n      <td>16678.820700</td>\n      <td>0.456455</td>\n      <td>0.620369</td>\n    </tr>\n    <tr>\n      <th>min</th>\n      <td>1.000000</td>\n      <td>6822.000000</td>\n      <td>49.510270</td>\n      <td>8.073150</td>\n    </tr>\n    <tr>\n      <th>25%</th>\n      <td>71.750000</td>\n      <td>40344.000000</td>\n      <td>50.062963</td>\n      <td>8.769440</td>\n    </tr>\n    <tr>\n      <th>50%</th>\n      <td>187.000000</td>\n      <td>49876.000000</td>\n      <td>50.277610</td>\n      <td>9.175635</td>\n    </tr>\n    <tr>\n      <th>75%</th>\n      <td>575.000000</td>\n      <td>59795.000000</td>\n      <td>50.611760</td>\n      <td>9.718850</td>\n    </tr>\n    <tr>\n      <th>max</th>\n      <td>276750.000000</td>\n      <td>193861.000000</td>\n      <td>51.782540</td>\n      <td>11.039870</td>\n    </tr>\n  </tbody>\n</table>\n</div>"
     },
     "execution_count": 65,
     "metadata": {},
     "output_type": "execute_result"
    }
   ],
   "source": [
    "df_preprocessed.describe()"
   ],
   "metadata": {
    "collapsed": false,
    "pycharm": {
     "name": "#%%\n"
    }
   }
  },
  {
   "cell_type": "code",
   "execution_count": 69,
   "outputs": [
    {
     "data": {
      "text/plain": "Bundesland                              Hessen\nKreis                          Hochtaunuskreis\nUnternehmen            Fresenius SE & Co. KGaA\nMitarbeiter                             276750\nJahresgehalt (AVG)                         NaN\nOrt (Werk)            Bad Homburg vor der Höhe\nLatitude                              50.21586\nLongitude                              8.62274\nName: 232, dtype: object"
     },
     "execution_count": 69,
     "metadata": {},
     "output_type": "execute_result"
    }
   ],
   "source": [
    "df_preprocessed.iloc[df_preprocessed['Mitarbeiter'].idxmax()]"
   ],
   "metadata": {
    "collapsed": false,
    "pycharm": {
     "name": "#%%\n"
    }
   }
  },
  {
   "cell_type": "code",
   "execution_count": 74,
   "outputs": [
    {
     "data": {
      "text/plain": "<Figure size 432x288 with 1 Axes>",
      "image/png": "[encoded data removed]"
     },
     "metadata": {
      "needs_background": "light"
     },
     "output_type": "display_data"
    }
   ],
   "source": [
    "sns.set_style()\n",
    "ax = df_preprocessed['Mitarbeiter'].plot.hist(bins=12, alpha=0.5)"
   ],
   "metadata": {
    "collapsed": false,
    "pycharm": {
     "name": "#%%\n"
    }
   }
  },
  {
   "cell_type": "code",
   "execution_count": 99,
   "outputs": [
    {
     "data": {
      "text/plain": "57      35167\n58      13725\n74      34919\n83      19270\n109     28131\n110     28131\n116     11052\n185     10457\n217     10331\n232    276750\n243     18386\n406     89373\n432     78636\n501     21206\n553     23405\n696     10092\n718     11571\nName: Mitarbeiter, dtype: int64"
     },
     "execution_count": 99,
     "metadata": {},
     "output_type": "execute_result"
    }
   ],
   "source": [
    "df_preprocessed['Mitarbeiter'][df_preprocessed['Mitarbeiter']>10000]"
   ],
   "metadata": {
    "collapsed": false,
    "pycharm": {
     "name": "#%%\n"
    }
   }
  },
  {
   "cell_type": "code",
   "execution_count": 80,
   "outputs": [
    {
     "data": {
      "text/plain": "<AxesSubplot:ylabel='Frequency'>"
     },
     "execution_count": 80,
     "metadata": {},
     "output_type": "execute_result"
    },
    {
     "data": {
      "text/plain": "<Figure size 432x288 with 1 Axes>",
      "image/png": "[encoded data removed]"
     },
     "metadata": {
      "needs_background": "light"
     },
     "output_type": "display_data"
    }
   ],
   "source": [
    "df_preprocessed['Mitarbeiter'][df_preprocessed['Mitarbeiter']<100].plot.hist(bins=12, alpha=0.5)"
   ],
   "metadata": {
    "collapsed": false,
    "pycharm": {
     "name": "#%%\n"
    }
   }
  },
  {
   "cell_type": "code",
   "execution_count": 100,
   "outputs": [],
   "source": [
    "dict_company_size = {\n",
    "    \"0 - 20\": np.vectorize(lambda x: 0 < x <= 20),\n",
    "    \"21 - 100\": np.vectorize(lambda x: 20 < x <= 100),\n",
    "    \"101 - 300\": np.vectorize(lambda x: 100 < x <= 300),\n",
    "    \"301 - 1000\": np.vectorize(lambda x: 300 < x <= 1000),\n",
    "    \"1001 - 10000\": np.vectorize(lambda x: 1000 < x <= 10000),\n",
    "    \"> 10000\": np.vectorize(lambda x: x > 10000)\n",
    "}"
   ],
   "metadata": {
    "collapsed": false,
    "pycharm": {
     "name": "#%%\n"
    }
   }
  },
  {
   "cell_type": "code",
   "execution_count": 103,
   "outputs": [
    {
     "data": {
      "text/plain": "              Bundesland                          Kreis  \\\n57                Bayern                       Würzburg   \n58                Bayern        Landkreis Rhön-Grabfeld   \n74                Bayern                       Würzburg   \n83                Bayern        Landkreis Main-Spessart   \n109        Niedersachsen            Landkreis Göttingen   \n110               Hessen                Lahn-Dill-Kreis   \n116  Nordrhein-Westfalen                Kreis Paderborn   \n185               Hessen          Rheingau-Taunus-Kreis   \n217               Hessen   Landkreis Marburg-Biedenkopf   \n232               Hessen                Hochtaunuskreis   \n243               Bayern            Landkreis Kitzingen   \n406               Bayern            Landkreis Kitzingen   \n432               Hessen                  Wetteraukreis   \n501            Thüringen                       Eisenach   \n553               Hessen                         Kassel   \n696               Hessen              Main-Kinzig-Kreis   \n718               Hessen  Landkreis Waldeck-Frankenberg   \n\n                                           Unternehmen  Mitarbeiter  \\\n57                                                 BNG        35167   \n58   BSH Hausgeräte GmbH (vormals: BSH Bosch und Si...        13725   \n74                                Bilfinger Noell GmbH        34919   \n83                                    Bosch Rexroth AG        19270   \n109                                      Carl Zeiss AG        28131   \n110                                      Carl Zeiss AG        28131   \n116         Claas Kommanditgesellschaft auf Aktien mbH        11052   \n185                                   ElringKlinger AG        10457   \n217             Federal-Mogul Holding Deutschland GmbH        10331   \n232                            Fresenius SE & Co. KGaA       276750   \n243                       GEA Group Aktiengesellschaft        18386   \n406                        LEONI Bordnetz-Systeme GmbH        89373   \n432                                         MAHLE GmbH        78636   \n501                               Opel Automobile GmbH        21206   \n553                                     Rheinmetall AG        23405   \n696                                Umicore AG & Co. KG        10092   \n718                       Viessmann Werke GmbH & Co KG        11571   \n\n     Jahresgehalt (AVG)                Ort (Werk)  Latitude  Longitude  \n57              51750.0                  Würzburg  49.81146    9.88909  \n58              63628.0              Bad Neustadt  50.33502   10.21917  \n74              49428.0                  Würzburg  49.81150    9.88929  \n83                  NaN              Lohr a. Main  50.01416    9.59056  \n109             58906.0                 Göttingen  51.53694    9.91671  \n110             58906.0                   Wetzlar  50.56355    8.50017  \n116             50940.0                 Paderborn  51.69041    8.74854  \n185             44453.0                   Idstein  50.20805    8.25962  \n217             50545.0            Stadtallendorf  50.82422    9.01358  \n232                 NaN  Bad Homburg vor der Höhe  50.21586    8.62274  \n243             61191.0                 Kitzingen  49.74678   10.17110  \n406             10391.0                 Kitzingen  49.74126   10.18653  \n432             30519.0               Wölfersheim  50.42291    8.85584  \n501             72845.0                  Eisenach  50.98145   10.30087  \n553             58363.0                    Kassel  51.33430    9.47965  \n696             53394.0                     Hanau  50.12125    8.97711  \n718             60574.0          Allendorf (Eder)  51.02999    8.68721  ",
      "text/html": "<div>\n<style scoped>\n    .dataframe tbody tr th:only-of-type {\n        vertical-align: middle;\n    }\n\n    .dataframe tbody tr th {\n        vertical-align: top;\n    }\n\n    .dataframe thead th {\n        text-align: right;\n    }\n</style>\n<table border=\"1\" class=\"dataframe\">\n  <thead>\n    <tr style=\"text-align: right;\">\n      <th></th>\n      <th>Bundesland</th>\n      <th>Kreis</th>\n      <th>Unternehmen</th>\n      <th>Mitarbeiter</th>\n      <th>Jahresgehalt (AVG)</th>\n      <th>Ort (Werk)</th>\n      <th>Latitude</th>\n      <th>Longitude</th>\n    </tr>\n  </thead>\n  <tbody>\n    <tr>\n      <th>57</th>\n      <td>Bayern</td>\n      <td>Würzburg</td>\n      <td>BNG</td>\n      <td>35167</td>\n      <td>51750.0</td>\n      <td>Würzburg</td>\n      <td>49.81146</td>\n      <td>9.88909</td>\n    </tr>\n    <tr>\n      <th>58</th>\n      <td>Bayern</td>\n      <td>Landkreis Rhön-Grabfeld</td>\n      <td>BSH Hausgeräte GmbH (vormals: BSH Bosch und Si...</td>\n      <td>13725</td>\n      <td>63628.0</td>\n      <td>Bad Neustadt</td>\n      <td>50.33502</td>\n      <td>10.21917</td>\n    </tr>\n    <tr>\n      <th>74</th>\n      <td>Bayern</td>\n      <td>Würzburg</td>\n      <td>Bilfinger Noell GmbH</td>\n      <td>34919</td>\n      <td>49428.0</td>\n      <td>Würzburg</td>\n      <td>49.81150</td>\n      <td>9.88929</td>\n    </tr>\n    <tr>\n      <th>83</th>\n      <td>Bayern</td>\n      <td>Landkreis Main-Spessart</td>\n      <td>Bosch Rexroth AG</td>\n      <td>19270</td>\n      <td>NaN</td>\n      <td>Lohr a. Main</td>\n      <td>50.01416</td>\n      <td>9.59056</td>\n    </tr>\n    <tr>\n      <th>109</th>\n      <td>Niedersachsen</td>\n      <td>Landkreis Göttingen</td>\n      <td>Carl Zeiss AG</td>\n      <td>28131</td>\n      <td>58906.0</td>\n      <td>Göttingen</td>\n      <td>51.53694</td>\n      <td>9.91671</td>\n    </tr>\n    <tr>\n      <th>110</th>\n      <td>Hessen</td>\n      <td>Lahn-Dill-Kreis</td>\n      <td>Carl Zeiss AG</td>\n      <td>28131</td>\n      <td>58906.0</td>\n      <td>Wetzlar</td>\n      <td>50.56355</td>\n      <td>8.50017</td>\n    </tr>\n    <tr>\n      <th>116</th>\n      <td>Nordrhein-Westfalen</td>\n      <td>Kreis Paderborn</td>\n      <td>Claas Kommanditgesellschaft auf Aktien mbH</td>\n      <td>11052</td>\n      <td>50940.0</td>\n      <td>Paderborn</td>\n      <td>51.69041</td>\n      <td>8.74854</td>\n    </tr>\n    <tr>\n      <th>185</th>\n      <td>Hessen</td>\n      <td>Rheingau-Taunus-Kreis</td>\n      <td>ElringKlinger AG</td>\n      <td>10457</td>\n      <td>44453.0</td>\n      <td>Idstein</td>\n      <td>50.20805</td>\n      <td>8.25962</td>\n    </tr>\n    <tr>\n      <th>217</th>\n      <td>Hessen</td>\n      <td>Landkreis Marburg-Biedenkopf</td>\n      <td>Federal-Mogul Holding Deutschland GmbH</td>\n      <td>10331</td>\n      <td>50545.0</td>\n      <td>Stadtallendorf</td>\n      <td>50.82422</td>\n      <td>9.01358</td>\n    </tr>\n    <tr>\n      <th>232</th>\n      <td>Hessen</td>\n      <td>Hochtaunuskreis</td>\n      <td>Fresenius SE &amp; Co. KGaA</td>\n      <td>276750</td>\n      <td>NaN</td>\n      <td>Bad Homburg vor der Höhe</td>\n      <td>50.21586</td>\n      <td>8.62274</td>\n    </tr>\n    <tr>\n      <th>243</th>\n      <td>Bayern</td>\n      <td>Landkreis Kitzingen</td>\n      <td>GEA Group Aktiengesellschaft</td>\n      <td>18386</td>\n      <td>61191.0</td>\n      <td>Kitzingen</td>\n      <td>49.74678</td>\n      <td>10.17110</td>\n    </tr>\n    <tr>\n      <th>406</th>\n      <td>Bayern</td>\n      <td>Landkreis Kitzingen</td>\n      <td>LEONI Bordnetz-Systeme GmbH</td>\n      <td>89373</td>\n      <td>10391.0</td>\n      <td>Kitzingen</td>\n      <td>49.74126</td>\n      <td>10.18653</td>\n    </tr>\n    <tr>\n      <th>432</th>\n      <td>Hessen</td>\n      <td>Wetteraukreis</td>\n      <td>MAHLE GmbH</td>\n      <td>78636</td>\n      <td>30519.0</td>\n      <td>Wölfersheim</td>\n      <td>50.42291</td>\n      <td>8.85584</td>\n    </tr>\n    <tr>\n      <th>501</th>\n      <td>Thüringen</td>\n      <td>Eisenach</td>\n      <td>Opel Automobile GmbH</td>\n      <td>21206</td>\n      <td>72845.0</td>\n      <td>Eisenach</td>\n      <td>50.98145</td>\n      <td>10.30087</td>\n    </tr>\n    <tr>\n      <th>553</th>\n      <td>Hessen</td>\n      <td>Kassel</td>\n      <td>Rheinmetall AG</td>\n      <td>23405</td>\n      <td>58363.0</td>\n      <td>Kassel</td>\n      <td>51.33430</td>\n      <td>9.47965</td>\n    </tr>\n    <tr>\n      <th>696</th>\n      <td>Hessen</td>\n      <td>Main-Kinzig-Kreis</td>\n      <td>Umicore AG &amp; Co. KG</td>\n      <td>10092</td>\n      <td>53394.0</td>\n      <td>Hanau</td>\n      <td>50.12125</td>\n      <td>8.97711</td>\n    </tr>\n    <tr>\n      <th>718</th>\n      <td>Hessen</td>\n      <td>Landkreis Waldeck-Frankenberg</td>\n      <td>Viessmann Werke GmbH &amp; Co KG</td>\n      <td>11571</td>\n      <td>60574.0</td>\n      <td>Allendorf (Eder)</td>\n      <td>51.02999</td>\n      <td>8.68721</td>\n    </tr>\n  </tbody>\n</table>\n</div>"
     },
     "execution_count": 103,
     "metadata": {},
     "output_type": "execute_result"
    }
   ],
   "source": [
    "df_preprocessed[dict_company_size[\"> 10000\"](df_preprocessed['Mitarbeiter'])]"
   ],
   "metadata": {
    "collapsed": false,
    "pycharm": {
     "name": "#%%\n"
    }
   }
  },
  {
   "cell_type": "code",
   "execution_count": 108,
   "outputs": [
    {
     "data": {
      "text/plain": "    Bundesland                         Kreis  \\\n0       Hessen               Landkreis Fulda   \n4       Hessen               Lahn-Dill-Kreis   \n8       Hessen  Landkreis Marburg-Biedenkopf   \n10      Hessen               Hochtaunuskreis   \n14      Hessen  Landkreis Hersfeld-Rotenburg   \n..         ...                           ...   \n781     Hessen             Main-Kinzig-Kreis   \n787     Hessen               Landkreis Fulda   \n788     Hessen               Landkreis Fulda   \n792     Hessen               Landkreis Fulda   \n794     Hessen             Offenbach am Main   \n\n                                           Unternehmen  Mitarbeiter  \\\n0                      3D Formen- und Werkzeugbau GmbH           28   \n4               A.S.S. Fertigungstechnik GmbH & Co. KG           25   \n8    ACS - Advanced Customer Service - Deutschland ...           27   \n10   ADDITIVE Soft- und Hardware für Technik und Wi...           44   \n14          AFOTEK Anlagen für Oberflächentechnik GmbH           49   \n..                                                 ...          ...   \n781                                          dima GmbH           11   \n787                     eska Kossatz Maschinenbau GmbH           23   \n788                   eska Schneider Lagersysteme GmbH           26   \n792                              innovation mecom GmbH           45   \n794                             mainis IT-Service GmbH           13   \n\n     Jahresgehalt (AVG)         Ort (Werk)  Latitude  Longitude  \n0                   NaN              Fulda  50.57460    9.69442  \n4                   NaN            Wetzlar  50.55118    8.48092  \n8               71771.0         Gladenbach  50.74975    8.61028  \n10              42957.0     Friedrichsdorf  50.25979    8.65477  \n14              44279.0       Bad Hersfeld  50.85652    9.72554  \n..                  ...                ...       ...        ...  \n781                 NaN              Hanau  50.14703    8.90042  \n787                 NaN         Eichenzell  50.48200    9.73176  \n788                 NaN         Eichenzell  50.48163    9.73168  \n792                 NaN              Fulda  50.52727    9.68280  \n794                 NaN  Offenbach am Main  50.11938    8.78544  \n\n[130 rows x 8 columns]",
      "text/html": "<div>\n<style scoped>\n    .dataframe tbody tr th:only-of-type {\n        vertical-align: middle;\n    }\n\n    .dataframe tbody tr th {\n        vertical-align: top;\n    }\n\n    .dataframe thead th {\n        text-align: right;\n    }\n</style>\n<table border=\"1\" class=\"dataframe\">\n  <thead>\n    <tr style=\"text-align: right;\">\n      <th></th>\n      <th>Bundesland</th>\n      <th>Kreis</th>\n      <th>Unternehmen</th>\n      <th>Mitarbeiter</th>\n      <th>Jahresgehalt (AVG)</th>\n      <th>Ort (Werk)</th>\n      <th>Latitude</th>\n      <th>Longitude</th>\n    </tr>\n  </thead>\n  <tbody>\n    <tr>\n      <th>0</th>\n      <td>Hessen</td>\n      <td>Landkreis Fulda</td>\n      <td>3D Formen- und Werkzeugbau GmbH</td>\n      <td>28</td>\n      <td>NaN</td>\n      <td>Fulda</td>\n      <td>50.57460</td>\n      <td>9.69442</td>\n    </tr>\n    <tr>\n      <th>4</th>\n      <td>Hessen</td>\n      <td>Lahn-Dill-Kreis</td>\n      <td>A.S.S. Fertigungstechnik GmbH &amp; Co. KG</td>\n      <td>25</td>\n      <td>NaN</td>\n      <td>Wetzlar</td>\n      <td>50.55118</td>\n      <td>8.48092</td>\n    </tr>\n    <tr>\n      <th>8</th>\n      <td>Hessen</td>\n      <td>Landkreis Marburg-Biedenkopf</td>\n      <td>ACS - Advanced Customer Service - Deutschland ...</td>\n      <td>27</td>\n      <td>71771.0</td>\n      <td>Gladenbach</td>\n      <td>50.74975</td>\n      <td>8.61028</td>\n    </tr>\n    <tr>\n      <th>10</th>\n      <td>Hessen</td>\n      <td>Hochtaunuskreis</td>\n      <td>ADDITIVE Soft- und Hardware für Technik und Wi...</td>\n      <td>44</td>\n      <td>42957.0</td>\n      <td>Friedrichsdorf</td>\n      <td>50.25979</td>\n      <td>8.65477</td>\n    </tr>\n    <tr>\n      <th>14</th>\n      <td>Hessen</td>\n      <td>Landkreis Hersfeld-Rotenburg</td>\n      <td>AFOTEK Anlagen für Oberflächentechnik GmbH</td>\n      <td>49</td>\n      <td>44279.0</td>\n      <td>Bad Hersfeld</td>\n      <td>50.85652</td>\n      <td>9.72554</td>\n    </tr>\n    <tr>\n      <th>...</th>\n      <td>...</td>\n      <td>...</td>\n      <td>...</td>\n      <td>...</td>\n      <td>...</td>\n      <td>...</td>\n      <td>...</td>\n      <td>...</td>\n    </tr>\n    <tr>\n      <th>781</th>\n      <td>Hessen</td>\n      <td>Main-Kinzig-Kreis</td>\n      <td>dima GmbH</td>\n      <td>11</td>\n      <td>NaN</td>\n      <td>Hanau</td>\n      <td>50.14703</td>\n      <td>8.90042</td>\n    </tr>\n    <tr>\n      <th>787</th>\n      <td>Hessen</td>\n      <td>Landkreis Fulda</td>\n      <td>eska Kossatz Maschinenbau GmbH</td>\n      <td>23</td>\n      <td>NaN</td>\n      <td>Eichenzell</td>\n      <td>50.48200</td>\n      <td>9.73176</td>\n    </tr>\n    <tr>\n      <th>788</th>\n      <td>Hessen</td>\n      <td>Landkreis Fulda</td>\n      <td>eska Schneider Lagersysteme GmbH</td>\n      <td>26</td>\n      <td>NaN</td>\n      <td>Eichenzell</td>\n      <td>50.48163</td>\n      <td>9.73168</td>\n    </tr>\n    <tr>\n      <th>792</th>\n      <td>Hessen</td>\n      <td>Landkreis Fulda</td>\n      <td>innovation mecom GmbH</td>\n      <td>45</td>\n      <td>NaN</td>\n      <td>Fulda</td>\n      <td>50.52727</td>\n      <td>9.68280</td>\n    </tr>\n    <tr>\n      <th>794</th>\n      <td>Hessen</td>\n      <td>Offenbach am Main</td>\n      <td>mainis IT-Service GmbH</td>\n      <td>13</td>\n      <td>NaN</td>\n      <td>Offenbach am Main</td>\n      <td>50.11938</td>\n      <td>8.78544</td>\n    </tr>\n  </tbody>\n</table>\n<p>130 rows × 8 columns</p>\n</div>"
     },
     "execution_count": 108,
     "metadata": {},
     "output_type": "execute_result"
    }
   ],
   "source": [
    "df_preprocessed[[10 < x < 50 for x in df_preprocessed['Mitarbeiter']]]"
   ],
   "metadata": {
    "collapsed": false,
    "pycharm": {
     "name": "#%%\n"
    }
   }
  },
  {
   "cell_type": "code",
   "execution_count": 109,
   "outputs": [
    {
     "data": {
      "text/plain": "276750"
     },
     "execution_count": 109,
     "metadata": {},
     "output_type": "execute_result"
    }
   ],
   "source": [
    "df_preprocessed['Mitarbeiter'].max()"
   ],
   "metadata": {
    "collapsed": false,
    "pycharm": {
     "name": "#%%\n"
    }
   }
  },
  {
   "cell_type": "code",
   "execution_count": 112,
   "outputs": [],
   "source": [
    "distance = 0.8*6371*180/np.pi*np.sqrt((50.11605*np.pi/360. - 49.72825*np.pi/360.)**2 + (8.72547*np.pi/360. - 9.96399*np.pi/360.)**2)"
   ],
   "metadata": {
    "collapsed": false,
    "pycharm": {
     "name": "#%%\n"
    }
   }
  },
  {
   "cell_type": "code",
   "execution_count": 113,
   "outputs": [
    {
     "data": {
      "text/plain": "3307.3486593784996"
     },
     "execution_count": 113,
     "metadata": {},
     "output_type": "execute_result"
    }
   ],
   "source": [
    "distance"
   ],
   "metadata": {
    "collapsed": false,
    "pycharm": {
     "name": "#%%\n"
    }
   }
  },
  {
   "cell_type": "code",
   "execution_count": null,
   "outputs": [],
   "source": [
    "lat1, long1 = df_preprocessed.iloc[438,:][['Latitude', 'Longitude']]"
   ],
   "metadata": {
    "collapsed": false,
    "pycharm": {
     "name": "#%%\n"
    }
   }
  },
  {
   "cell_type": "code",
   "execution_count": null,
   "outputs": [],
   "source": [
    "lat2, long2 = df_preprocessed.iloc[446,:][['Latitude', 'Longitude']]"
   ],
   "metadata": {
    "collapsed": false,
    "pycharm": {
     "name": "#%%\n"
    }
   }
  },
  {
   "cell_type": "code",
   "execution_count": 121,
   "outputs": [],
   "source": [
    "lat3, long3 = df_preprocessed.iloc[490,:][['Latitude', 'Longitude']]"
   ],
   "metadata": {
    "collapsed": false,
    "pycharm": {
     "name": "#%%\n"
    }
   }
  },
  {
   "cell_type": "code",
   "execution_count": 141,
   "outputs": [
    {
     "data": {
      "text/plain": "[(50.5746, 9.69442),\n (50.52873, 9.6857),\n (50.52808, 8.75195),\n (50.20074, 8.85493),\n (50.55118, 8.48092),\n (50.21575, 8.61534),\n (49.91571, 9.12169),\n (50.83857, 9.99095),\n (50.74975, 8.61028),\n (50.00295, 9.23979),\n (50.25979, 8.65477),\n (50.55649, 10.3777),\n (50.55649, 10.3777),\n (50.80801, 9.92425),\n (50.85652, 9.72554),\n (50.85652, 9.72554),\n (51.50249, 9.38939),\n (51.50249, 9.38939),\n (51.50249, 9.38939),\n (50.05117, 8.92909),\n (51.78254, 8.7076),\n (50.11558, 8.96964),\n (51.37998, 9.00005),\n (50.21245, 8.57363),\n (51.31479, 9.53303),\n (49.99867, 9.225),\n (50.13112, 8.86019),\n (50.21811, 8.61428),\n (50.18662, 8.64441),\n (49.77457, 9.92604),\n (50.63738, 9.38724),\n (51.26154, 9.39489),\n (49.96869, 11.02502),\n (49.87978, 9.14578),\n (50.04565, 8.95944),\n (50.12895, 8.76745),\n (50.14126, 9.1124),\n (50.62131, 9.45695),\n (51.28465, 9.52955),\n (51.28637, 9.53228),\n (50.09561, 9.03958),\n (49.9678, 9.14275),\n (50.87018, 9.72121),\n (51.49877, 9.38258),\n (50.82249, 10.4351),\n (50.11636, 8.62967),\n (50.11636, 8.62967),\n (51.1087, 9.55751),\n (50.54505, 9.75463),\n (50.82893, 10.43873),\n (50.58004, 8.57035),\n (50.58855, 8.48073),\n (49.91413, 10.23903),\n (49.91476, 10.24006),\n (51.74545, 8.71466),\n (50.05711, 8.81903),\n (50.05221, 8.98595),\n (49.81146, 9.88909),\n (50.33502, 10.21917),\n (50.09567, 9.05075),\n (50.13544, 8.91643),\n (50.20503, 9.17416),\n (50.22067, 8.62508),\n (49.99034, 8.87115),\n (50.55146, 8.39044),\n (51.17529, 10.02259),\n (49.72442, 10.1544),\n (49.65247, 9.94151),\n (50.12094, 8.74149),\n (50.4302, 9.64003),\n (50.98145, 10.30087),\n (51.57735, 8.97599),\n (51.74978, 8.75541),\n (50.5888, 8.61456),\n (49.8115, 9.88929),\n (50.61773, 8.73752),\n (50.27338, 8.9776),\n (50.41132, 8.07315),\n (50.22197, 8.62045),\n (50.76175, 9.81557),\n (50.16378, 9.05656),\n (51.33881, 9.48326),\n (50.85391, 10.94726),\n (50.01416, 9.59056),\n (50.05725, 8.81859),\n (49.98288, 9.1105),\n (50.50992, 8.82967),\n (49.79733, 9.97411),\n (50.11786, 8.92331),\n (50.58004, 8.57035),\n (50.58004, 8.57035),\n (50.58165, 8.4768),\n (50.57277, 8.4819),\n (50.17329, 8.64122),\n (50.76969, 8.58775),\n (50.42956, 8.6693),\n (50.59725, 8.82282),\n (50.095, 9.0421),\n (50.34375, 9.53095),\n (50.55402, 9.6581),\n (49.88096, 9.14679),\n (50.15902, 9.1602),\n (50.35457, 9.51047),\n (50.05235, 8.92616),\n (49.70644, 9.22771),\n (49.89667, 8.52594),\n (50.82108, 8.74705),\n (50.54005, 9.71442),\n (50.74084, 8.2172),\n (51.53694, 9.91671),\n (50.56355, 8.50017),\n (50.00233, 8.30082),\n (50.19504, 8.65889),\n (50.02069, 8.8047),\n (50.13051, 8.86285),\n (50.53334, 8.53348),\n (51.69041, 8.74854),\n (50.58235, 8.47885),\n (49.79446, 10.03049),\n (50.25393, 9.29859),\n (50.20356, 9.16857),\n (50.55051, 8.49866),\n (50.24318, 8.8627),\n (50.01714, 8.80774),\n (50.59857, 8.95828),\n (49.82589, 9.14782),\n (50.12654, 8.7536),\n (49.90788, 8.49996),\n (50.29107, 9.36271),\n (50.20021, 9.19029),\n (50.00622, 8.65276),\n (50.55905, 9.72852),\n (49.87989, 8.63496),\n (50.21706, 8.60241),\n (50.12717, 8.91445),\n (50.53275, 9.68),\n (51.31931, 9.84797),\n (49.81146, 9.88909),\n (50.24769, 10.07398),\n (50.64296, 9.39377),\n (51.01077, 10.25362),\n (50.14695, 9.00629),\n (50.05476, 8.82504),\n (50.11951, 8.96497),\n (50.427, 9.64462),\n (49.94474, 8.26125),\n (50.54249, 8.97943),\n (50.88198, 8.83605),\n (50.65922, 8.75028),\n (51.11116, 9.55298),\n (51.72005, 8.71741),\n (50.16514, 8.64827),\n (50.55272, 8.43516),\n (51.31116, 9.5374),\n (50.65225, 8.32838),\n (50.7221, 8.85357),\n (50.61774, 8.5928),\n (50.52734, 9.67926),\n (51.62555, 8.50648),\n (50.8591, 9.71061),\n (49.95529, 9.77233),\n (50.55163, 9.72465),\n (50.57442, 9.70597),\n (50.57442, 9.70597),\n (50.53397, 8.53303),\n (50.53956, 9.71441),\n (50.80098, 10.61684),\n (50.22649, 8.76357),\n (50.12968, 10.5181),\n (50.04554, 8.1626),\n (50.84555, 10.96025),\n (50.99916, 11.03987),\n (50.12748, 9.9275),\n (50.19853, 9.11709),\n (51.05472, 8.78742),\n (51.28019, 9.51012),\n (50.42552, 9.64566),\n (50.75672, 9.81916),\n (50.39649, 9.50958),\n (51.37479, 10.11532),\n (49.81336, 9.49364),\n (50.02366, 8.89771),\n (49.92486, 9.15432),\n (50.13082, 10.51895),\n (50.70092, 9.72355),\n (50.20805, 8.25962),\n (50.00993, 8.28952),\n (50.11764, 8.76386),\n (50.82831, 8.91452),\n (50.16198, 9.08486),\n (50.62966, 9.50107),\n (50.56699, 8.50006),\n (50.69058, 9.75199),\n (50.68929, 9.76647),\n (50.23331, 9.33621),\n (50.54313, 8.70804),\n (50.19275, 8.79391),\n (49.74148, 10.18251),\n (50.748, 9.28612),\n (50.30682, 10.46304),\n (51.37923, 8.99743),\n (50.36013, 9.42305),\n (50.08602, 8.19175),\n (50.27399, 9.12159),\n (50.16479, 9.17304),\n (51.31074, 9.47576),\n (49.74556, 10.16761),\n (50.00684, 9.22426),\n (50.55599, 9.60108),\n (51.22942, 9.41666),\n (49.99585, 10.20106),\n (50.09636, 8.90045),\n (49.78584, 9.44868),\n (51.05047, 9.91994),\n (50.44985, 9.62389),\n (50.53327, 8.76779),\n (50.09855, 10.79513),\n (50.82422, 9.01358),\n (50.55967, 8.8966),\n (50.07039, 8.85302),\n (50.30534, 10.20696),\n (50.5377, 9.67398),\n (51.05168, 8.77603),\n (50.0213, 10.26304),\n (49.98171, 9.1439),\n (50.08412, 8.83578),\n (50.55599, 9.60108),\n (50.04666, 9.00127),\n (51.00061, 8.58591),\n (49.60385, 9.7163),\n (49.74411, 10.18247),\n (50.83558, 9.67028),\n (50.21586, 8.62274),\n (50.55253, 8.47639),\n (50.55253, 8.47639),\n (49.68517, 10.28361),\n (50.82328, 9.00666),\n (50.08412, 10.56308),\n (51.49311, 9.6055),\n (50.69726, 9.72062),\n (51.31766, 9.47763),\n (50.54499, 9.68407),\n (51.2966, 9.52553),\n (49.74678, 10.1711),\n (50.21049, 9.16997),\n (50.08446, 8.83364),\n (50.31363, 9.79905),\n (49.66565, 10.14797),\n (50.3377, 10.22252),\n (49.79759, 9.94492),\n (51.29651, 9.53125),\n (49.81138, 9.88354),\n (50.45224, 9.93331),\n (49.84926, 9.95727),\n (50.60801, 9.72044),\n (50.02021, 8.99196),\n (50.72491, 9.00204),\n (50.33617, 10.22827),\n (50.17716, 8.90938),\n (51.19459, 10.02938),\n (49.98447, 9.57897),\n (50.45413, 9.93866),\n (50.03654, 8.95767),\n (51.67151, 8.59496),\n (50.46723, 10.15574),\n (50.4457, 9.03553),\n (50.57967, 9.80403),\n (50.124, 8.9388),\n (50.96876, 10.72221),\n (50.58623, 9.77498),\n (50.85839, 9.74246),\n (51.28038, 9.50372),\n (51.07606, 9.9315),\n (49.78721, 10.33783),\n (50.27441, 8.96473),\n (51.07713, 8.80947),\n (51.69041, 8.74854),\n (50.0526, 8.92705),\n (50.44451, 9.03002),\n (50.27301, 9.3749),\n (50.57561, 8.67438),\n (50.68758, 9.0465),\n (50.25568, 9.33161),\n (50.32773, 9.55681),\n (50.81436, 8.9853),\n (49.87851, 8.64245),\n (50.56026, 9.59576),\n (49.74414, 9.31923),\n (50.1077, 9.92825),\n (50.13504, 10.518),\n (50.90627, 10.56459),\n (50.12981, 8.92549),\n (50.21425, 8.62136),\n (50.07509, 9.15598),\n (50.74793, 9.28793),\n (51.03545, 8.62318),\n (50.35634, 8.98537),\n (50.17518, 8.54708),\n (50.22049, 8.61018),\n (50.86356, 8.55189),\n (50.14315, 10.13012),\n (50.07918, 9.01658),\n (49.76876, 9.18431),\n (51.60662, 9.9306),\n (50.20644, 9.12957),\n (50.68997, 9.75787),\n (50.68997, 9.75787),\n (50.55155, 8.3922),\n (50.55385, 8.43658),\n (49.66162, 10.05015),\n (50.01334, 8.88477),\n (50.79458, 8.75129),\n (51.05095, 8.77863),\n (50.55129, 8.47993),\n (51.2803, 9.50533),\n (49.82352, 9.55111),\n (50.21605, 8.61141),\n (50.31476, 9.62695),\n (50.08487, 8.83946),\n (50.01617, 8.46413),\n (51.30867, 9.53744),\n (50.10668, 8.73473),\n (50.13409, 8.86472),\n (49.87851, 8.64245),\n (50.91841, 9.20753),\n (49.88565, 8.643),\n (49.81347, 9.8869),\n (49.99193, 8.32463),\n (51.28031, 9.51553),\n (50.50827, 8.6269),\n (50.19596, 9.11534),\n (50.13445, 8.74192),\n (50.27253, 10.37361),\n (50.56308, 9.60226),\n (50.30723, 8.69773),\n (50.06477, 8.9627),\n (49.52023, 9.96459),\n (50.37682, 9.26979),\n (50.55688, 9.59033),\n (49.95177, 9.77751),\n (50.77193, 8.58441),\n (50.29705, 10.45518),\n (50.64385, 8.59493),\n (50.19005, 8.9292),\n (50.02099, 8.99468),\n (49.98254, 10.42668),\n (50.86641, 9.71912),\n (50.14389, 8.94004),\n (50.74188, 8.31569),\n (50.14523, 8.93914),\n (50.33123, 10.2298),\n (50.5636, 9.68374),\n (50.58436, 8.54148),\n (50.02537, 8.10731),\n (49.97378, 9.11122),\n (50.57482, 8.68971),\n (50.56062, 9.59726),\n (50.71754, 9.90047),\n (50.20966, 9.97892),\n (49.7595, 9.71683),\n (51.36851, 10.84674),\n (50.19432, 9.18124),\n (50.69135, 9.74771),\n (50.72206, 9.00593),\n (50.07129, 8.85406),\n (49.82976, 9.90005),\n (50.25129, 9.2958),\n (50.54411, 9.67091),\n (50.74217, 9.15924),\n (49.73216, 9.99065),\n (50.54574, 9.68125),\n (50.036, 10.24164),\n (49.83235, 9.13289),\n (50.14126, 9.1124),\n (49.9507, 9.16866),\n (49.97171, 9.1108),\n (50.02028, 8.8998),\n (50.16271, 9.19507),\n (50.24839, 9.29305),\n (49.8423, 9.27718),\n (49.66133, 10.04955),\n (51.2729, 9.5525),\n (50.55085, 8.58636),\n (50.13351, 8.92224),\n (50.30009, 9.65838),\n (49.80824, 9.87942),\n (49.9831, 9.11394),\n (49.81185, 9.88638),\n (50.92251, 9.22936),\n (50.63003, 8.63281),\n (49.8289, 9.2034),\n (51.3234, 9.4884),\n (51.63823, 9.46005),\n (50.20088, 9.19245),\n (50.34974, 9.52427),\n (50.28081, 9.37623),\n (50.16133, 9.05443),\n (50.35442, 9.53466),\n (50.91844, 8.46519),\n (49.77103, 10.36866),\n (50.13201, 8.86999),\n (49.78952, 9.52394),\n (49.79053, 9.5214),\n (50.02462, 8.80671),\n (50.35392, 8.75509),\n (50.64834, 9.39189),\n (49.74126, 10.18653),\n (50.439, 10.30483),\n (50.76218, 9.12266),\n (50.58466, 8.54571),\n (50.14208, 8.79737),\n (50.01842, 10.21217),\n (50.24631, 10.07204),\n (50.24627, 10.07224),\n (50.11637, 8.72636),\n (50.57831, 8.5718),\n (50.72676, 8.65073),\n (50.55378, 8.52939),\n (50.73278, 10.4603),\n (50.55353, 8.53539),\n (50.55207, 8.49841),\n (50.7461, 8.27724),\n (49.94827, 9.09737),\n (49.96819, 9.15365),\n (50.18817, 9.17526),\n (50.51622, 8.58109),\n (50.54387, 9.6815),\n (49.78051, 9.50732),\n (50.56808, 9.67546),\n (50.04987, 8.92738),\n (50.54514, 9.6826),\n (50.55184, 9.64192),\n (50.42291, 8.85584),\n (50.07077, 8.85452),\n (50.11442, 8.85289),\n (50.2893, 9.36626),\n (50.14595, 9.10879),\n (49.81955, 10.34431),\n (49.72852, 9.96399),\n (49.87256, 8.91319),\n (50.56808, 9.67546),\n (50.37496, 8.75112),\n (49.97166, 9.98345),\n (49.79744, 9.99923),\n (50.40226, 10.01075),\n (50.14622, 8.9257),\n (50.11605, 8.72547),\n (50.42552, 9.64566),\n (49.93259, 9.04231),\n (50.06307, 10.14363),\n (50.00363, 9.23877),\n (50.00295, 9.23979),\n (50.08289, 8.87222),\n (50.00295, 9.23979),\n (49.77572, 9.39526),\n (51.52472, 9.92602),\n (50.02656, 10.2389),\n (49.79986, 9.9376),\n (50.02531, 10.26395),\n (50.11886, 8.63399),\n (49.83174, 9.14896),\n (51.29438, 9.51278),\n (50.20729, 8.59808),\n (50.42305, 9.32125),\n (50.02437, 8.87954),\n (49.81279, 9.97839),\n (50.54928, 9.66132),\n (50.54514, 9.6826),\n (50.0842, 8.98681),\n (50.61187, 8.70444),\n (51.54869, 9.89676),\n (50.20536, 9.16563),\n (50.55729, 9.59696),\n (51.59677, 9.92394),\n (50.54696, 9.67464),\n (50.11132, 8.8921),\n (51.41321, 9.65067),\n (51.43051, 9.65046),\n (51.43051, 9.65046),\n (51.38999, 10.33963),\n (50.53619, 9.69775),\n (50.92419, 8.47106),\n (50.85836, 10.94417),\n (50.1299, 8.97727),\n (50.14519, 8.83189),\n (50.14587, 8.83227),\n (50.18611, 9.17853),\n (50.43286, 8.68293),\n (51.00091, 9.73026),\n (50.00397, 9.58362),\n (49.81134, 9.88779),\n (50.14373, 8.74585),\n (51.54916, 9.93098),\n (50.31544, 9.43409),\n (50.16321, 9.07612),\n (50.75274, 8.09936),\n (50.74862, 8.61205),\n (50.55671, 8.59314),\n (49.6468, 9.22116),\n (50.59582, 8.38332),\n (50.68539, 9.75952),\n (50.98145, 10.30087),\n (50.61844, 8.66098),\n (51.01676, 8.75631),\n (50.54755, 9.67369),\n (49.71084, 9.246),\n (50.08399, 10.56413),\n (49.80065, 10.00081),\n (50.7397, 9.2545),\n (49.84588, 9.14869),\n (50.34015, 10.22271),\n (50.1779, 9.05141),\n (50.21902, 8.61434),\n (51.28188, 9.5216),\n (50.42903, 9.64523),\n (51.17677, 10.02932),\n (49.98633, 9.15629),\n (50.60805, 8.64814),\n (51.19645, 10.0287),\n (49.88, 9.59969),\n (50.6131, 9.02133),\n (50.37587, 9.94657),\n (50.31527, 9.44238),\n (51.2712, 8.97977),\n (50.05664, 8.81925),\n (50.24193, 8.86834),\n (49.79244, 9.52396),\n (50.58581, 8.46763),\n (50.58432, 8.47386),\n (51.70285, 9.86771),\n (49.8742, 8.63112),\n (50.06513, 8.47115),\n (50.57125, 8.67852),\n (50.32025, 10.20943),\n (50.34015, 10.22271),\n (50.42207, 10.30673),\n (50.3786, 8.73575),\n (49.84784, 9.61537),\n (50.19851, 9.12059),\n (50.55172, 9.64106),\n (50.14389, 8.94004),\n (50.9931, 10.38303),\n (50.06264, 9.16037),\n (50.22048, 8.60984),\n (49.99637, 8.90228),\n (50.29449, 10.1869),\n (50.12389, 8.74334),\n (50.25769, 9.29448),\n (50.10337, 8.75188),\n (50.08425, 10.5629),\n (50.42415, 10.30295),\n (49.83264, 9.13134),\n (51.22265, 9.70063),\n (51.3343, 9.47965),\n (50.54704, 9.67425),\n (50.54788, 9.67458),\n (50.54788, 9.67458),\n (50.02266, 8.90061),\n (50.1487, 8.93987),\n (50.55635, 8.91092),\n (50.2157, 8.53675),\n (50.01258, 8.79069),\n (50.53769, 9.48751),\n (50.58665, 8.76611),\n (50.42025, 9.63908),\n (50.25383, 10.18643),\n (50.22526, 9.2768),\n (49.96368, 8.6419),\n (50.01915, 8.24835),\n (50.52174, 8.97236),\n (50.12971, 11.00782),\n (50.66138, 9.74221),\n (50.25762, 8.64282),\n (50.67116, 9.55388),\n (50.99916, 11.03987),\n (50.60646, 8.51474),\n (49.97801, 9.25564),\n (49.96959, 9.07963),\n (50.29405, 10.47228),\n (50.1071, 8.78746),\n (50.12267, 8.92),\n (49.99385, 9.06717),\n (49.7903, 9.52555),\n (50.03593, 10.23006),\n (50.44101, 8.66901),\n (50.31851, 9.44085),\n (50.08818, 9.04969),\n (51.28514, 9.63534),\n (51.28514, 9.63534),\n (50.15748, 8.74392),\n (50.03163, 10.23028),\n (49.79423, 9.91524),\n (51.31694, 9.53994),\n (51.31694, 9.53994),\n (50.13239, 8.91779),\n (50.61173, 8.6152),\n (50.01931, 10.21405),\n (50.77109, 8.58989),\n (50.64345, 9.03947),\n (49.68772, 9.95138),\n (50.20236, 8.7455),\n (50.13026, 8.86162),\n (50.74173, 9.28901),\n (50.516, 9.30921),\n (50.63182, 9.38436),\n (50.01762, 8.99491),\n (50.74684, 8.08609),\n (50.68458, 8.3074),\n (50.72215, 10.35355),\n (50.12891, 8.59835),\n (50.01566, 8.99963),\n (51.20109, 9.46936),\n (50.53756, 8.5325),\n (50.12157, 9.8824),\n (50.55222, 8.49628),\n (49.88264, 8.6403),\n (50.09693, 9.05127),\n (49.95584, 8.25419),\n (49.95584, 8.25419),\n (50.03274, 10.53167),\n (49.95873, 9.66203),\n (50.46914, 9.63492),\n (50.12734, 9.93014),\n (49.94062, 9.85573),\n (50.96212, 10.72141),\n (49.8226, 9.55563),\n (50.71114, 8.70341),\n (50.55184, 9.64192),\n (51.64237, 8.50354),\n (51.00655, 11.03698),\n (50.29686, 10.1923),\n (50.81824, 8.76999),\n (50.68823, 9.04714),\n (50.64186, 8.22278),\n (51.29291, 9.47592),\n (50.58315, 8.54231),\n (51.25051, 9.26487),\n (50.27243, 9.11187),\n (50.82108, 8.74705),\n (50.13533, 8.73568),\n (49.78465, 10.34064),\n (50.08345, 9.00177),\n (50.05796, 8.28774),\n (50.1458, 8.93723),\n (50.61972, 8.66527),\n (51.1091, 9.5599),\n (50.25773, 8.6599),\n (50.04576, 8.95903),\n (50.18737, 10.07723),\n (50.13451, 8.91618),\n (50.12447, 8.84146),\n (50.14117, 8.92554),\n (51.31174, 9.54309),\n (50.11317, 8.75543),\n (49.75432, 10.17027),\n (50.47886, 9.76056),\n (50.01286, 8.8849),\n (49.79337, 9.84349),\n (51.19256, 10.02681),\n (50.31799, 9.43732),\n (50.13525, 8.74219),\n (49.69965, 8.61237),\n (49.69965, 8.61237),\n (50.12026, 8.92348),\n (50.78904, 8.73509),\n (49.96432, 9.1449),\n (50.20522, 9.16881),\n (50.70038, 8.30836),\n (50.54896, 8.7701),\n (50.31322, 10.36806),\n (50.85827, 9.73925),\n (50.85289, 9.68789),\n (49.96474, 9.1522),\n (50.27357, 9.11448),\n (50.59937, 9.53457),\n (49.66396, 10.06747),\n (50.03699, 9.52485),\n (50.54169, 9.68289),\n (49.87187, 8.62668),\n (50.78913, 8.76437),\n (50.55397, 9.76234),\n (50.85916, 9.71079),\n (50.1783, 9.01986),\n (50.16241, 9.05005),\n (50.95065, 10.38932),\n (50.61185, 8.75193),\n (50.55049, 8.43082),\n (50.02419, 9.04176),\n (49.99413, 10.19979),\n (50.59138, 8.71495),\n (50.12093, 8.74148),\n (50.19101, 8.65104),\n (50.03401, 10.53036),\n (50.13541, 8.91641),\n (50.11315, 10.77849),\n (49.79563, 9.8451),\n (50.12125, 8.97711),\n (50.03402, 10.53076),\n (50.22862, 8.761),\n (50.08411, 8.96419),\n (50.19062, 8.65799),\n (50.57686, 8.6653),\n (49.868, 10.32815),\n (50.03401, 10.53036),\n (50.55356, 9.6413),\n (50.55353, 8.53539),\n (50.0873, 8.74536),\n (50.55327, 8.53435),\n (50.12114, 8.92252),\n (50.03596, 10.24392),\n (50.2042, 9.17169),\n (50.13014, 8.92899),\n (50.32827, 10.22443),\n (50.53132, 9.68466),\n (50.87159, 9.71126),\n (50.19708, 9.18016),\n (51.30628, 9.5249),\n (50.17443, 9.57415),\n (51.02999, 8.68721),\n (51.11378, 9.64789),\n (50.49707, 9.12036),\n (50.57064, 8.69299),\n (49.78918, 9.43683),\n (50.5667, 9.67603),\n (50.12891, 8.59835),\n (49.83188, 9.59278),\n (49.84626, 9.61434),\n (50.55339, 9.68175),\n (49.94692, 9.09718),\n (50.15222, 8.93345),\n (49.83208, 9.90751),\n (50.36296, 8.69745),\n (49.7818, 9.17092),\n (51.31333, 9.4862),\n (50.11165, 8.92967),\n (50.08547, 8.83289),\n (50.40478, 8.99601),\n (50.48512, 9.71876),\n (49.97789, 9.28316),\n (50.75274, 8.09936),\n (49.98008, 9.58278),\n (50.48257, 9.72851),\n (50.22381, 8.60655),\n (50.13103, 8.76275),\n (50.41395, 9.71836),\n (50.42227, 10.30149),\n (50.53404, 9.67893),\n (50.48095, 9.73157),\n (50.1961, 10.65476),\n (50.59929, 8.85901),\n (50.01688, 9.43264),\n (50.18855, 8.58556),\n (51.08772, 9.49169),\n (50.91986, 9.22907),\n (50.53814, 9.68299),\n (50.75588, 8.57252),\n (49.90613, 10.89578),\n (50.13184, 8.74231),\n (50.9664, 9.7879),\n (50.1451, 9.1094),\n (50.03621, 10.24488),\n (50.18581, 9.17285),\n (50.28452, 9.3767),\n (49.64052, 9.99469),\n (49.79983, 9.93696),\n (50.19096, 8.65114),\n (49.89921, 9.0493),\n (49.79906, 9.94675),\n (50.547, 8.48003),\n (50.55246, 8.51006),\n (50.02964, 10.21453),\n (49.9823, 8.8037),\n (49.92975, 9.07101),\n (49.96131, 8.31027),\n (50.79029, 9.59562),\n (50.25802, 8.65984),\n (50.75918, 9.81703),\n (50.62551, 8.57659),\n (50.59319, 8.45371),\n (50.18585, 9.17601),\n (50.55353, 8.53539),\n (50.14703, 8.90042),\n (50.14542, 8.79592),\n (49.72252, 10.15153),\n (50.03226, 8.70792),\n (49.51027, 9.97326),\n (50.07694, 8.87518),\n (50.482, 9.73176),\n (50.48163, 9.73168),\n (50.29853, 9.50383),\n (50.7564, 9.81507),\n (50.07592, 8.87391),\n (50.52727, 9.6828),\n (50.48207, 9.7364),\n (50.11938, 8.78544),\n (50.11187, 8.80624),\n (50.09819, 10.79384),\n (50.55842, 10.37422),\n (51.42878, 9.46485),\n (50.25794, 9.29791),\n (50.08357, 8.83927),\n (50.56081, 8.49697),\n (50.44309, 8.66642),\n (51.28038, 9.50372)]"
     },
     "execution_count": 141,
     "metadata": {},
     "output_type": "execute_result"
    }
   ],
   "source": [
    "locations = list(zip(df_preprocessed['Latitude'], df_preprocessed['Longitude']))\n",
    "locations"
   ],
   "metadata": {
    "collapsed": false,
    "pycharm": {
     "name": "#%%\n"
    }
   }
  },
  {
   "cell_type": "code",
   "execution_count": 144,
   "outputs": [],
   "source": [
    "loc_i = (49.989221,9.572231)"
   ],
   "metadata": {
    "collapsed": false,
    "pycharm": {
     "name": "#%%\n"
    }
   }
  },
  {
   "cell_type": "code",
   "execution_count": 145,
   "outputs": [],
   "source": [
    "loc_i_multiple = [loc_i for i in range(df_preprocessed.shape[0])]"
   ],
   "metadata": {
    "collapsed": false,
    "pycharm": {
     "name": "#%%\n"
    }
   }
  },
  {
   "cell_type": "code",
   "execution_count": 123,
   "outputs": [],
   "source": [
    "loc1 = (lat1, long1)\n",
    "loc2 = (lat2, long2)\n",
    "loc3 = (lat3, long3)"
   ],
   "metadata": {
    "collapsed": false,
    "pycharm": {
     "name": "#%%\n"
    }
   }
  },
  {
   "cell_type": "code",
   "execution_count": 120,
   "outputs": [
    {
     "data": {
      "text/plain": "98.58091080117065"
     },
     "execution_count": 120,
     "metadata": {},
     "output_type": "execute_result"
    }
   ],
   "source": [
    "import haversine as hs\n",
    "hs.haversine(loc1, loc2)"
   ],
   "metadata": {
    "collapsed": false,
    "pycharm": {
     "name": "#%%\n"
    }
   }
  },
  {
   "cell_type": "code",
   "execution_count": 124,
   "outputs": [
    {
     "data": {
      "text/plain": "array([98.5809108, 10.7124261])"
     },
     "execution_count": 124,
     "metadata": {},
     "output_type": "execute_result"
    }
   ],
   "source": [
    "hs.haversine_vector([loc1, loc1], [loc2, loc3])"
   ],
   "metadata": {
    "collapsed": false,
    "pycharm": {
     "name": "#%%\n"
    }
   }
  },
  {
   "cell_type": "code",
   "execution_count": 147,
   "outputs": [],
   "source": [
    "distances = hs.haversine_vector(loc_i_multiple, locations)"
   ],
   "metadata": {
    "collapsed": false,
    "pycharm": {
     "name": "#%%\n"
    }
   }
  },
  {
   "cell_type": "code",
   "execution_count": 151,
   "outputs": [
    {
     "data": {
      "text/plain": "Bundesland                             Bayern\nKreis                 Landkreis Main-Spessart\nUnternehmen            Gerresheimer Lohr GmbH\nMitarbeiter                              9887\nJahresgehalt (AVG)                    35238.0\nOrt (Werk)                       Lohr am Main\nLatitude                             49.98447\nLongitude                             9.57897\nName: 260, dtype: object"
     },
     "execution_count": 151,
     "metadata": {},
     "output_type": "execute_result"
    }
   ],
   "source": [
    "df_preprocessed.iloc[np.argmin(distances),:]"
   ],
   "metadata": {
    "collapsed": false,
    "pycharm": {
     "name": "#%%\n"
    }
   }
  },
  {
   "cell_type": "code",
   "execution_count": 152,
   "outputs": [
    {
     "data": {
      "text/plain": "    Bundesland                    Kreis  \\\n83      Bayern  Landkreis Main-Spessart   \n260     Bayern  Landkreis Main-Spessart   \n489     Bayern  Landkreis Main-Spessart   \n740     Bayern  Landkreis Main-Spessart   \n\n                                           Unternehmen  Mitarbeiter  \\\n83                                    Bosch Rexroth AG        19270   \n260                             Gerresheimer Lohr GmbH         9887   \n489                        Nikolaus Sorg GmbH & Co. KG          483   \n740  Walter Hunger GmbH & Co. KG - Hydraulikzylinde...          122   \n\n     Jahresgehalt (AVG)    Ort (Werk)  Latitude  Longitude  \n83                  NaN  Lohr a. Main  50.01416    9.59056  \n260             35238.0  Lohr am Main  49.98447    9.57897  \n489             52700.0  Lohr am Main  50.00397    9.58362  \n740             46922.0          Lohr  49.98008    9.58278  ",
      "text/html": "<div>\n<style scoped>\n    .dataframe tbody tr th:only-of-type {\n        vertical-align: middle;\n    }\n\n    .dataframe tbody tr th {\n        vertical-align: top;\n    }\n\n    .dataframe thead th {\n        text-align: right;\n    }\n</style>\n<table border=\"1\" class=\"dataframe\">\n  <thead>\n    <tr style=\"text-align: right;\">\n      <th></th>\n      <th>Bundesland</th>\n      <th>Kreis</th>\n      <th>Unternehmen</th>\n      <th>Mitarbeiter</th>\n      <th>Jahresgehalt (AVG)</th>\n      <th>Ort (Werk)</th>\n      <th>Latitude</th>\n      <th>Longitude</th>\n    </tr>\n  </thead>\n  <tbody>\n    <tr>\n      <th>83</th>\n      <td>Bayern</td>\n      <td>Landkreis Main-Spessart</td>\n      <td>Bosch Rexroth AG</td>\n      <td>19270</td>\n      <td>NaN</td>\n      <td>Lohr a. Main</td>\n      <td>50.01416</td>\n      <td>9.59056</td>\n    </tr>\n    <tr>\n      <th>260</th>\n      <td>Bayern</td>\n      <td>Landkreis Main-Spessart</td>\n      <td>Gerresheimer Lohr GmbH</td>\n      <td>9887</td>\n      <td>35238.0</td>\n      <td>Lohr am Main</td>\n      <td>49.98447</td>\n      <td>9.57897</td>\n    </tr>\n    <tr>\n      <th>489</th>\n      <td>Bayern</td>\n      <td>Landkreis Main-Spessart</td>\n      <td>Nikolaus Sorg GmbH &amp; Co. KG</td>\n      <td>483</td>\n      <td>52700.0</td>\n      <td>Lohr am Main</td>\n      <td>50.00397</td>\n      <td>9.58362</td>\n    </tr>\n    <tr>\n      <th>740</th>\n      <td>Bayern</td>\n      <td>Landkreis Main-Spessart</td>\n      <td>Walter Hunger GmbH &amp; Co. KG - Hydraulikzylinde...</td>\n      <td>122</td>\n      <td>46922.0</td>\n      <td>Lohr</td>\n      <td>49.98008</td>\n      <td>9.58278</td>\n    </tr>\n  </tbody>\n</table>\n</div>"
     },
     "execution_count": 152,
     "metadata": {},
     "output_type": "execute_result"
    }
   ],
   "source": [
    "df_preprocessed[distances < 5]"
   ],
   "metadata": {
    "collapsed": false,
    "pycharm": {
     "name": "#%%\n"
    }
   }
  },
  {
   "cell_type": "code",
   "execution_count": 155,
   "outputs": [
    {
     "data": {
      "text/plain": "tuple"
     },
     "execution_count": 155,
     "metadata": {},
     "output_type": "execute_result"
    }
   ],
   "source": [
    "type(loc1)"
   ],
   "metadata": {
    "collapsed": false,
    "pycharm": {
     "name": "#%%\n"
    }
   }
  },
  {
   "cell_type": "code",
   "execution_count": 156,
   "outputs": [
    {
     "data": {
      "text/plain": "list"
     },
     "execution_count": 156,
     "metadata": {},
     "output_type": "execute_result"
    }
   ],
   "source": [
    "type(locations)"
   ],
   "metadata": {
    "collapsed": false,
    "pycharm": {
     "name": "#%%\n"
    }
   }
  },
  {
   "cell_type": "code",
   "execution_count": null,
   "outputs": [],
   "source": [],
   "metadata": {
    "collapsed": false,
    "pycharm": {
     "name": "#%%\n"
    }
   }
  }
 ],
 "metadata": {
  "kernelspec": {
   "display_name": "Python 3",
   "language": "python",
   "name": "python3"
  },
  "language_info": {
   "codemirror_mode": {
    "name": "ipython",
    "version": 2
   },
   "file_extension": ".py",
   "mimetype": "text/x-python",
   "name": "python",
   "nbconvert_exporter": "python",
   "pygments_lexer": "ipython2",
   "version": "2.7.6"
  }
 },
 "nbformat": 4,
 "nbformat_minor": 0
}